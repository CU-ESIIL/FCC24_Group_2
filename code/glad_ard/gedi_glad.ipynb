{
 "cells": [
  {
   "cell_type": "code",
   "execution_count": 6,
   "metadata": {},
   "outputs": [],
   "source": [
    "import rioxarray\n",
    "import xarray as xr\n",
    "import glob\n",
    "from shapely.geometry import box\n",
    "from datetime import datetime\n",
    "import numpy as np"
   ]
  },
  {
   "cell_type": "code",
   "execution_count": 3,
   "metadata": {},
   "outputs": [
    {
     "data": {
      "text/plain": [
       "[(-104.99950000000001, 38.99950000000001),\n",
       " (-104.99950000000001, 40.0005),\n",
       " (-106.0005, 40.0005),\n",
       " (-106.0005, 38.99950000000001),\n",
       " (-104.99950000000001, 38.99950000000001)]"
      ]
     },
     "execution_count": 3,
     "metadata": {},
     "output_type": "execute_result"
    }
   ],
   "source": [
    "# copy from /iplant/home/shared/earthlab/forest_carbon_codefest/Team_outputs/Team2/105W_39N_annual_median_composite.zarr\n",
    "ard = xr.open_zarr(\"105W_39N_annual_median_composite.zarr\")\n",
    "aoi = box(*ard.rio.bounds())\n",
    "list(aoi.exterior.coords)"
   ]
  },
  {
   "cell_type": "markdown",
   "metadata": {},
   "source": [
    "We get GEDI L2A frmo earth engine as defined here: https://code.earthengine.google.com/f60eee0697f93ad993a2ac91c505dfdf and upload from my personal drive to the team directory."
   ]
  },
  {
   "cell_type": "code",
   "execution_count": 4,
   "metadata": {},
   "outputs": [],
   "source": [
    "gedi_paths = glob.glob(\"../glad_ard/gedi/*\")"
   ]
  },
  {
   "cell_type": "code",
   "execution_count": 136,
   "metadata": {},
   "outputs": [],
   "source": [
    "gedi_dsets = []\n",
    "for f in gedi_paths:\n",
    "    dset = rioxarray.open_rasterio(f, chunks={\"x\": 1024,\"y\":1024})\n",
    "    dset = dset.expand_dims(\"time\")\n",
    "    year = int(f.split(\"_\")[-1].split(\".\")[0])\n",
    "    gedi_dsets.append(dset.assign_coords(time=(\"time\", [datetime(year=year, month=12, day=31)])))\n",
    "\n",
    "gedi = xr.concat(gedi_dsets, dim=\"time\")\n",
    "gedi = gedi.assign_coords(band=('band', ['rh98'])).to_dataset(\"band\")"
   ]
  },
  {
   "cell_type": "code",
   "execution_count": 137,
   "metadata": {},
   "outputs": [],
   "source": [
    "from tqdm.auto import tqdm"
   ]
  },
  {
   "cell_type": "code",
   "execution_count": 138,
   "metadata": {},
   "outputs": [
    {
     "name": "stderr",
     "output_type": "stream",
     "text": [
      "100%|██████████| 27/27 [01:40<00:00,  3.72s/it]\n"
     ]
    }
   ],
   "source": [
    "reprojected_dsets = []\n",
    "for year in tqdm(ard.time.data):\n",
    "    ard_reprojected = ard.sel(time=year).rio.reproject_match(gedi)\n",
    "    rr = ard_reprojected.expand_dims(\"time\").assign_coords(time=(\"time\", [year]))\n",
    "    reprojected_dsets.append(rr)\n",
    "reprojected_ard = xr.concat(reprojected_dsets, dim=\"time\")\n",
    "ard_reprojected = reprojected_ard['__xarray_dataarray_variable__'].to_dataset(\"band\")"
   ]
  },
  {
   "cell_type": "code",
   "execution_count": 139,
   "metadata": {},
   "outputs": [],
   "source": [
    "array = ard_reprojected.to_array()\n",
    "ard_reprojected = array.assign_coords(variable=('variable', [\"Blue\",'Green','Red','NIR','SWIR1','SWIR2','Thermal','QF'])).to_dataset('variable')\n",
    "combined = xr.merge([ard_reprojected.chunk({'x': 1024, 'y': 1024, 'time': 1}), gedi.chunk({'x': 1024, 'y': 1024, 'time': 1})])"
   ]
  },
  {
   "cell_type": "code",
   "execution_count": 140,
   "metadata": {},
   "outputs": [
    {
     "data": {
      "text/plain": [
       "<xarray.backends.zarr.ZarrStore at 0x7f99859cc3c0>"
      ]
     },
     "execution_count": 140,
     "metadata": {},
     "output_type": "execute_result"
    }
   ],
   "source": [
    "combined.chunk({'x': 1024, 'y': 1024, 'time': 1}).to_zarr(\"../glad_ard/ard_gedi.zarr\", mode='w')"
   ]
  },
  {
   "cell_type": "code",
   "execution_count": 7,
   "metadata": {},
   "outputs": [],
   "source": [
    "combined = xr.open_zarr(\"../glad_ard/ard_gedi.zarr/\")"
   ]
  },
  {
   "cell_type": "code",
   "execution_count": 8,
   "metadata": {},
   "outputs": [],
   "source": [
    "covariates = [\"Blue\",'Green','Red','NIR','SWIR1','SWIR2','Thermal']\n",
    "targets = ['rh98']"
   ]
  },
  {
   "cell_type": "code",
   "execution_count": null,
   "metadata": {},
   "outputs": [],
   "source": [
    "combined"
   ]
  },
  {
   "cell_type": "code",
   "execution_count": 14,
   "metadata": {},
   "outputs": [
    {
     "data": {
      "text/plain": [
       "['2019', '2020', '2021', '2022', '2023']"
      ]
     },
     "execution_count": 14,
     "metadata": {},
     "output_type": "execute_result"
    }
   ],
   "source": [
    "years"
   ]
  },
  {
   "cell_type": "code",
   "execution_count": 32,
   "metadata": {},
   "outputs": [],
   "source": [
    "years = [str(t) for t in range(2019, 2024)]\n",
    "X_subset = np.array(combined[covariates].isel(time=[-5,-4,-3,-2,-1]).to_array())\n",
    "Y_subset = np.array(combined[targets].isel(time=[-5,-4,-3,-2,-1]).to_array())"
   ]
  },
  {
   "cell_type": "code",
   "execution_count": 78,
   "metadata": {},
   "outputs": [],
   "source": [
    "y = Y_subset.reshape(len(targets), -1).T\n",
    "x = X_subset.reshape(len(covariates), -1).T\n",
    "\n",
    "# find examples where we have them; GEDI is sparse\n",
    "idx = ~np.isnan(y).any(axis=1)\n",
    "x = x[idx]\n",
    "y = y[idx]\n",
    "\n",
    "# clean both by dropping any nan in x\n",
    "valid_x = (~np.isnan(x).any(axis=1))\n",
    "x = x[valid_x]\n",
    "y = y[valid_x]"
   ]
  },
  {
   "cell_type": "code",
   "execution_count": 79,
   "metadata": {},
   "outputs": [
    {
     "data": {
      "text/plain": [
       "((1072397, 7), (1072397, 1))"
      ]
     },
     "execution_count": 79,
     "metadata": {},
     "output_type": "execute_result"
    }
   ],
   "source": [
    "# how many cleaned examples?\n",
    "x.shape, y.shape"
   ]
  },
  {
   "cell_type": "code",
   "execution_count": 80,
   "metadata": {},
   "outputs": [],
   "source": [
    "import xgboost as xgb\n",
    "from sklearn.model_selection import train_test_split\n",
    "from sklearn.metrics import r2_score, mean_absolute_error"
   ]
  },
  {
   "cell_type": "code",
   "execution_count": 81,
   "metadata": {},
   "outputs": [
    {
     "name": "stdout",
     "output_type": "stream",
     "text": [
      "3.2069834779586484\n"
     ]
    }
   ],
   "source": [
    "# we should be splitting spatially! We are going to get optimistic results!\n",
    "X_train, X_test, y_train, y_test = train_test_split(x, y, test_size=0.2, random_state=42)  # 80% training and 20% testing\n",
    "\n",
    "# Instantiate an XGBoost classifier\n",
    "# Use DMatrix for xgboost, it is optimized for both memory efficiency and training speed.\n",
    "dtrain = xgb.DMatrix(X_train, label=y_train)\n",
    "dtest = xgb.DMatrix(X_test, label=y_test)\n",
    "\n",
    "# Define parameters for the XGBoost model\n",
    "params = {\n",
    "    'objective': 'reg:absoluteerror',\n",
    "}\n",
    "\n",
    "# Train the model\n",
    "num_round = 100  # the number of training iterations\n",
    "bst = xgb.train(params, dtrain, num_round)\n",
    "\n",
    "# Predictions\n",
    "preds = bst.predict(dtest)\n",
    "\n",
    "# Evaluate the model\n",
    "print(mean_absolute_error(preds, y_test))"
   ]
  },
  {
   "cell_type": "markdown",
   "metadata": {},
   "source": [
    "MAE of 3.21 not too bad, but beware of our splitting strategy! We should be estimating this through spatial cross validation for a more rigorous estimation of test error."
   ]
  },
  {
   "cell_type": "code",
   "execution_count": 82,
   "metadata": {},
   "outputs": [],
   "source": [
    "import matplotlib.pyplot as plt"
   ]
  },
  {
   "cell_type": "code",
   "execution_count": 83,
   "metadata": {},
   "outputs": [
    {
     "data": {
      "image/png": "[encoded data removed]",
      "text/plain": [
       "<Figure size 640x480 with 1 Axes>"
      ]
     },
     "metadata": {},
     "output_type": "display_data"
    }
   ],
   "source": [
    "plt.hist(y_test, bins=80, density=True, alpha=.4)\n",
    "plt.hist(preds, bins=80, color='r', density=True, alpha=.4)\n",
    "plt.xlim(0,40)\n",
    "plt.show()"
   ]
  },
  {
   "cell_type": "markdown",
   "metadata": {},
   "source": [
    "Things to note:\n",
    "- values do not meet 0m!\n",
    "- somewhat bimodal distribution\n",
    "- we did not clip training data--high values will give poor r2 and mse\n",
    "- we are overpredicting rh98 at 15; we can't match the long right-skewed tail; and tend to miss lower predictions as they are shifted to higher values."
   ]
  },
  {
   "cell_type": "code",
   "execution_count": 125,
   "metadata": {},
   "outputs": [],
   "source": [
    "covariates = combined[covariates].to_array().chunk({'x': 256, 'y': 256, 'variable': -1})"
   ]
  },
  {
   "cell_type": "code",
   "execution_count": 126,
   "metadata": {},
   "outputs": [],
   "source": [
    "def run_predictions(block):\n",
    "    block = np.array(block)\n",
    "    xx = block.reshape(len(covariates), -1).T\n",
    "    xx = xgb.DMatrix(xx)\n",
    "    preds = bst.predict(xx)\n",
    "    ex = preds.reshape(1, -1).T.reshape(1, *block.shape[1:])\n",
    "    return ex"
   ]
  },
  {
   "cell_type": "code",
   "execution_count": 133,
   "metadata": {},
   "outputs": [],
   "source": [
    "covariates = covariates.compute()"
   ]
  },
  {
   "cell_type": "code",
   "execution_count": 134,
   "metadata": {},
   "outputs": [],
   "source": [
    "predictions = covariates.map_blocks(run_predictions)"
   ]
  },
  {
   "cell_type": "code",
   "execution_count": 135,
   "metadata": {},
   "outputs": [
    {
     "data": {
      "text/plain": [
       "(1, 27, 4463, 4458)"
      ]
     },
     "execution_count": 135,
     "metadata": {},
     "output_type": "execute_result"
    }
   ],
   "source": [
    "predictions.shape"
   ]
  },
  {
   "cell_type": "code",
   "execution_count": 147,
   "metadata": {},
   "outputs": [],
   "source": [
    "preds = xr.DataArray(predictions[0], coords=combined[targets].coords)\n",
    "preds = preds.to_dataset(name='rh98-predictions')"
   ]
  },
  {
   "cell_type": "code",
   "execution_count": 148,
   "metadata": {},
   "outputs": [
    {
     "data": {
      "text/plain": [
       "<xarray.backends.zarr.ZarrStore at 0x7f3d8cf12bc0>"
      ]
     },
     "execution_count": 148,
     "metadata": {},
     "output_type": "execute_result"
    }
   ],
   "source": [
    "preds.chunk({\"time\":1, \"y\":1024,\"x\": 1024}).to_zarr(\"../data/predictions.zarr\", mode='w')"
   ]
  },
  {
   "cell_type": "code",
   "execution_count": 149,
   "metadata": {},
   "outputs": [],
   "source": [
    "from geogif import gif"
   ]
  },
  {
   "cell_type": "code",
   "execution_count": 151,
   "metadata": {},
   "outputs": [],
   "source": [
    "gif(preds['rh98-predictions'], to=\"../data/predictions.gif\", fps=2)"
   ]
  }
 ],
 "metadata": {
  "kernelspec": {
   "display_name": "codefest",
   "language": "python",
   "name": "python3"
  },
  "language_info": {
   "codemirror_mode": {
    "name": "ipython",
    "version": 3
   },
   "file_extension": ".py",
   "mimetype": "text/x-python",
   "name": "python",
   "nbconvert_exporter": "python",
   "pygments_lexer": "ipython3",
   "version": "3.10.13"
  },
  "orig_nbformat": 4
 },
 "nbformat": 4,
 "nbformat_minor": 2
}
